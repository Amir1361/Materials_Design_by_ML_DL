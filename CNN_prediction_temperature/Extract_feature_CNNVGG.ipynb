{
 "cells": [
  {
   "cell_type": "markdown",
   "metadata": {},
   "source": [
    "# Required functions for loading and processing data set"
   ]
  },
  {
   "cell_type": "markdown",
   "metadata": {},
   "source": [
    "## Loading libraries"
   ]
  },
  {
   "cell_type": "code",
   "execution_count": null,
   "metadata": {},
   "outputs": [],
   "source": [
    "from sklearn.preprocessing import MinMaxScaler\n",
    "import glob\n",
    "import cv2\n",
    "import os\n",
    "import numpy as np\n",
    "import pandas as pd\n",
    "import matplotlib.pyplot as plt\n",
    "\n",
    "# Importing hypopt library for grid search\n",
    "# from hypopt import GridSearch\n",
    "\n",
    "# Importing Keras libraries\n",
    "from keras.utils import np_utils\n",
    "from keras.models import Sequential\n",
    "from keras.applications import VGG16\n",
    "from keras.applications import imagenet_utils\n",
    "from keras.callbacks import ModelCheckpoint\n",
    "from keras.preprocessing.image import load_img\n",
    "from keras.preprocessing.image import img_to_array\n",
    "from keras.layers import Dense, Conv2D, MaxPooling2D\n",
    "from keras.layers import Dropout, Flatten, GlobalAveragePooling2D\n",
    "\n",
    "import warnings\n",
    "warnings.filterwarnings('ignore')"
   ]
  },
  {
   "cell_type": "markdown",
   "metadata": {},
   "source": [
    "## Loading images min-max"
   ]
  },
  {
   "cell_type": "code",
   "execution_count": 1,
   "metadata": {},
   "outputs": [],
   "source": [
    "def load_image_minmax(inputPath):\n",
    "    # initialize the list of column names in the CSV file and then\n",
    "    # load it using Pandas\n",
    "    cols = [\"min\", \"max\", \"image_name\",\"temperature\",\"Cr\",\"Co\"]\n",
    "    df = pd.read_csv(inputPath,header=None, names=cols)\n",
    "    # return the data frame\n",
    "    return df"
   ]
  },
  {
   "cell_type": "markdown",
   "metadata": {},
   "source": [
    "## Processing of image min_max"
   ]
  },
  {
   "cell_type": "code",
   "execution_count": 13,
   "metadata": {},
   "outputs": [],
   "source": [
    "\n",
    "\n",
    "def process_image_minmax(df, train, test):\n",
    "    # initialize the column names of the continuous data\n",
    "    continuous = [\"min\", \"max\"]\n",
    "    # performin min-max scaling each continuous feature column to\n",
    "    # the range [0, 1]\n",
    "    \n",
    "#     cs = MinMaxScaler()\n",
    "#     trainContinuous = cs.fit_transform(train[continuous])\n",
    "#     testContinuous = cs.transform(test[continuous])\n",
    "    trainContinuous = train[continuous]\n",
    "    testContinuous = test[continuous]\n",
    "    # construct our training and testing data points by concatenating\n",
    "    # the categorical features with the continuous features\n",
    "    # trainX = np.hstack([trainContinuous])\n",
    "    # testX = np.hstack([testContinuous])\n",
    "    # return the concatenated training and testing data\n",
    "    trainX = np.array(trainContinuous)\n",
    "    testX = np.array(testContinuous)\n",
    "    return (trainX, testX)\n"
   ]
  },
  {
   "cell_type": "markdown",
   "metadata": {},
   "source": [
    "## Extract image features by VGG16 convolutional layers"
   ]
  },
  {
   "cell_type": "code",
   "execution_count": null,
   "metadata": {},
   "outputs": [],
   "source": [
    "def create_features(df, inputPath, pre_model):\n",
    "\n",
    "    images = []\n",
    "\n",
    "    # loop over the images\n",
    "    for i in df['image_name']:\n",
    "        imagePath = os.path.join(inputPath,i)\n",
    "    # load the input image and image is resized to 224x224 pixels\n",
    "        image = load_img(imagePath, target_size=(224, 224))\n",
    "        image = img_to_array(image)\n",
    "\n",
    "        # preprocess the image by (1) expanding the dimensions and\n",
    "        # (2) subtracting the mean RGB pixel intensity from the\n",
    "        # ImageNet dataset\n",
    "        image = np.expand_dims(image, axis=0)\n",
    "        image = imagenet_utils.preprocess_input(image)\n",
    "\n",
    "        # add the image to the batch\n",
    "        images.append(image)\n",
    "\n",
    "    x = np.vstack(images)\n",
    "    features = pre_model.predict(x, batch_size=32)\n",
    "    features_flatten = features.reshape((features.shape[0], 7 * 7 * 512))\n",
    "    return features_flatten"
   ]
  },
  {
   "cell_type": "markdown",
   "metadata": {},
   "source": [
    "# Model development"
   ]
  },
  {
   "cell_type": "markdown",
   "metadata": {},
   "source": [
    "## Loading libraries"
   ]
  },
  {
   "cell_type": "code",
   "execution_count": null,
   "metadata": {},
   "outputs": [],
   "source": [
    "# import the necessary packages\n",
    "from tensorflow.keras.models import Sequential\n",
    "from tensorflow.keras.layers import BatchNormalization\n",
    "from tensorflow.keras.layers import Conv2D\n",
    "from tensorflow.keras.layers import MaxPooling2D\n",
    "from tensorflow.keras.layers import Activation\n",
    "from tensorflow.keras.layers import Dropout\n",
    "from tensorflow.keras.layers import Dense\n",
    "from tensorflow.keras.layers import Flatten\n",
    "from tensorflow.keras.layers import Input\n",
    "from tensorflow.keras.models import Model\n"
   ]
  },
  {
   "cell_type": "markdown",
   "metadata": {},
   "source": [
    "## FC for extracted image features"
   ]
  },
  {
   "cell_type": "code",
   "execution_count": 2,
   "metadata": {},
   "outputs": [],
   "source": [
    "def create_feature_model(dim, regress=False):\n",
    "    model = Sequential()\n",
    "    model.add(Dense(16, input_dim=dim, activation=\"relu\"))\n",
    "    model.add(BatchNormalization(axis=-1))\n",
    "    model.add(Dropout(0.5))\n",
    "    model.add(Dense(4, activation=\"relu\"))\n",
    "    # check to see if the regression node should be added\n",
    "    if regress:\n",
    "        model.add(Dense(1, activation=\"linear\"))\n",
    "    # return our model\n",
    "    return model"
   ]
  },
  {
   "cell_type": "markdown",
   "metadata": {},
   "source": [
    "## FC for combining output of CNN with numeric data (image min_max)"
   ]
  },
  {
   "cell_type": "code",
   "execution_count": null,
   "metadata": {},
   "outputs": [],
   "source": [
    "def create_mlp(dim, regress=False):\n",
    "    # define our MLP network\n",
    "    model = Sequential()\n",
    "    model.add(Dense(8, input_dim=dim, activation=\"relu\"))\n",
    "    model.add(Dense(4, activation=\"relu\"))\n",
    "    # check to see if the regression node should be added\n",
    "    if regress:\n",
    "        model.add(Dense(1, activation=\"linear\"))\n",
    "    # return our model\n",
    "    return model"
   ]
  },
  {
   "cell_type": "markdown",
   "metadata": {},
   "source": [
    "# Compile the Model"
   ]
  },
  {
   "cell_type": "code",
   "execution_count": 47,
   "metadata": {
    "scrolled": false
   },
   "outputs": [
    {
     "name": "stdout",
     "output_type": "stream",
     "text": [
      "[INFO] loading images min-max...\n",
      "Data shape\n",
      "(454, 6)\n",
      "[INFO] loading spinodal images...\n",
      "Image shape\n",
      "(454, 25088)\n",
      "[INFO] processing data...\n",
      "Train shape\n",
      "(340, 6)\n",
      "Test shape\n",
      "(114, 6)\n",
      "Train labels shape\n",
      "(340, 3)\n",
      "Test labels shape\n",
      "(114, 3)\n",
      "[INFO] training model...\n",
      "[INFO] predicting temperatures...\n",
      "Temperature accuracy ...\n",
      "0.09154096147492263\n",
      "0.0009980991793220662\n",
      "Cr accuracy ...\n",
      "0.9303969939832182\n",
      "0.0003220933196252125\n",
      "Co accuracy ...\n",
      "0.9304313089798912\n",
      "0.0003219345243112757\n"
     ]
    }
   ],
   "source": [
    "#%%time\n",
    "\n",
    "# import tensorflow as tf\n",
    "# gpu = tf.config.experimental.list_physical_devices('GPU')\n",
    "# tf.config.experimental.set_memory_growth(gpu[0], True)\n",
    "\n",
    "# import the necessary packages\n",
    "from spinodalfunc import spinodal_datasets_new\n",
    "from spinodalfunc import spinodal_models_new\n",
    "from sklearn.model_selection import train_test_split\n",
    "from sklearn.preprocessing import MinMaxScaler\n",
    "from tensorflow.keras.layers import Dense\n",
    "from tensorflow.keras.models import Model\n",
    "from tensorflow.keras.optimizers import Adam\n",
    "from tensorflow.keras.layers import concatenate\n",
    "import numpy as np\n",
    "import argparse\n",
    "import locale\n",
    "import os\n",
    "from sklearn.metrics import mean_squared_error, r2_score\n",
    "#from tensorflow.keras.utils import np_utils\n",
    "from tensorflow.keras.models import Sequential\n",
    "from tensorflow.keras.applications import VGG16\n",
    "from tensorflow.keras.applications import imagenet_utils\n",
    "from tensorflow.keras.callbacks import ModelCheckpoint\n",
    "from tensorflow.keras.preprocessing.image import load_img\n",
    "from tensorflow.keras.preprocessing.image import img_to_array\n",
    "from tensorflow.keras.layers import Dense, Conv2D, MaxPooling2D\n",
    "from tensorflow.keras.layers import Dropout, Flatten, GlobalAveragePooling2D\n",
    "# construct the argument parser and parse the arguments\n",
    "# ap = argparse.ArgumentParser()\n",
    "# ap.add_argument(\"-d\", \"--dataset\", type=str, required=True,\n",
    "#     help=\"path to input dataset of spinodal images\")\n",
    "# args = vars(ap.parse_args())\n",
    "\n",
    "path='/home/labuser/Spinodal-Data/Spinodal_Dataset'\n",
    "# construct the path to the input .csv file that contains information\n",
    "# on each sample in the dataset and then load the dataset\n",
    "print(\"[INFO] loading images min-max...\")\n",
    "inputPath = os.path.sep.join([path, \"SpinodalInfo.csv\"])\n",
    "df = load_image_minmax(inputPath)\n",
    "\n",
    "print(\"Data shape\")\n",
    "print(df.shape)\n",
    "\n",
    "print(\"[INFO] loading spinodal images...\")\n",
    "images = create_features(df, path,pre_model = VGG16(weights=\"imagenet\", include_top=False))\n",
    "\n",
    "print(\"Image shape\")\n",
    "print(images.shape)\n",
    "#print(df)\n",
    "# load the images and then scale the pixel intensities to the\n",
    "# range [0, 1]\n",
    "# print(\"[INFO] loading spinodal images...\")\n",
    "# images = load_spinodal_images(df, path)\n",
    "# images = images / 255.0\n",
    "# partition the data into training and testing splits using 75% of\n",
    "# the data for training and the remaining 25% for testing\n",
    "print(\"[INFO] processing data...\")\n",
    "#normalizer = preprocessing.Normalization()\n",
    "#df[\"temperature\"]=(df[\"temperature\"]-df[\"temperature\"].min())/(df[\"temperature\"].max()-df[\"temperature\"].min())\n",
    "split = train_test_split(df, images, test_size=0.25, random_state=42)\n",
    "(trainAttrX, testAttrX, trainImagesX, testImagesX) = split\n",
    "\n",
    "print(\"Train shape\")\n",
    "print(trainAttrX.shape)\n",
    "print(\"Test shape\")\n",
    "print(testAttrX.shape)\n",
    "\n",
    "# find the largest temperature in the training set and use it to\n",
    "# scale our temperatures to the range [0, 1] (will lead to better\n",
    "# training and convergence)\n",
    "\n",
    "# construct the path to the input .csv file that contains information\n",
    "# on each sample in the dataset and then load the dataset\n",
    "# print(\"[INFO] loading images min-max...\")\n",
    "# inputPath = os.path.sep.join([args[\"dataset\"], \"SpinodalInfo.csv\"])\n",
    "# df = spinodal_datasets_new.load_image_minmax(inputPath)\n",
    "# # load the images and then scale the pixel intensities to the\n",
    "# # range [0, 1]\n",
    "\n",
    "# #images = images / 255.0\n",
    "# # partition the data into training and testing splits using 75% of\n",
    "# # the data for training and the remaining 25% for testing\n",
    "# print(\"[INFO] processing data...\")\n",
    "# split = train_test_split(df, images, test_size=0.25, random_state=42)\n",
    "# (trainAttrX, testAttrX, trainImagesX, testImagesX) = split\n",
    "# find the largest temperature in the training set and use it to\n",
    "# scale our temperatures to the range [0, 1] (will lead to better\n",
    "# training and convergence)\n",
    "colY = [\"temperature\", \"Cr\", \"Cr\"]\n",
    "# cs = MinMaxScaler()\n",
    "# traincolY = cs.fit_transform(trainAttrX[colY])\n",
    "# testcolY = cs.transform(testAttrX[colY])\n",
    "# trainY = np.array(traincolY)\n",
    "# testY = np.array(testcolY)\n",
    "maxTemp = trainAttrX[\"temperature\"].max()\n",
    "trainAttrX[\"temperature\"] = trainAttrX[\"temperature\"] / maxTemp\n",
    "testAttrX[\"temperature\"] = testAttrX[\"temperature\"] / maxTemp\n",
    "trainY = np.array(trainAttrX[colY])\n",
    "print(\"Train labels shape\")\n",
    "print(trainY.shape)\n",
    "#print(testAttrX)\n",
    "testY = np.array(testAttrX[colY])\n",
    "print(\"Test labels shape\")\n",
    "print(testY.shape)\n",
    "# process the image minmax data by performing min-max scaling\n",
    "(trainAttrX, testAttrX) = process_image_minmax(df,trainAttrX, testAttrX)\n",
    "# create the MLP and CNN models\n",
    "mlp = create_mlp(trainAttrX.shape[1], regress=False)\n",
    "cnn = create_feature_model(trainImagesX.shape[1], regress=False)\n",
    "# create the input to our final set of layers as the *output* of both\n",
    "# the MLP and CNN\n",
    "combinedInput = concatenate([mlp.output, cnn.output])\n",
    "# our final FC layer head will have two dense layers, the final one\n",
    "# being our regression head\n",
    "x = Dense(4, activation=\"relu\")(combinedInput)\n",
    "x = Dense(3, activation=\"linear\")(x)\n",
    "# our final model will accept categorical/numerical data on the MLP\n",
    "# input and images on the CNN input, outputting a single value (the\n",
    "# predicted temperature of the spinodal)\n",
    "model = Model(inputs=[mlp.input, cnn.input], outputs=x)\n",
    "# compile the model using mean absolute percentage error as our loss,\n",
    "# implying that we seek to minimize the absolute percentage difference\n",
    "# between our temperature *predictions* and the *actual temperatures*\n",
    "opt = Adam(lr=1e-3, decay=1e-3 / 200)\n",
    "model.compile(loss=\"mean_absolute_percentage_error\", optimizer=opt)\n",
    "# train the model\n",
    "print(\"[INFO] training model...\")\n",
    "history = model.fit(\n",
    "    x=[trainAttrX, trainImagesX], y=trainY,\n",
    "    validation_data=([testAttrX, testImagesX], testY),\n",
    "    epochs=10000, batch_size=8, verbose=0)\n",
    "# make predictions on the testing data\n",
    "print(\"[INFO] predicting temperatures...\")\n",
    "preds = model.predict([testAttrX, testImagesX])\n",
    "#print(\"Actual Temperature & Cr & Co ...\")\n",
    "print(\"Temperature accuracy ...\")\n",
    "print(\"R-squared:\")\n",
    "print(r2_score(testY[:,0], preds[:,0]))\n",
    "print(\"MSE:\")\n",
    "print(mean_squared_error(testY[:,0], preds[:,0]))\n",
    "\n",
    "print(\"Cr accuracy ...\")\n",
    "print(\"R-squared:\")\n",
    "print(r2_score(testY[:,1], preds[:,1]))\n",
    "print(\"MSE:\")\n",
    "print(mean_squared_error(testY[:,1], preds[:,1]))\n",
    "\n",
    "print(\"Co accuracy ...\")\n",
    "print(\"R-squared:\")\n",
    "print(r2_score(testY[:,2], preds[:,2]))\n",
    "print(\"MSE:\")\n",
    "print(mean_squared_error(testY[:,2], preds[:,2]))\n",
    "\n",
    "#print(\"Predicted Temperature & Cr & Co ...\")\n",
    "#print(preds)\n",
    "\n",
    "# print(\"Actual Temperature...\")\n",
    "# print(testY)\n",
    "# print(\"Predicted Temperature...\")\n",
    "# print(preds)\n",
    "# compute the difference between the *predicted* temperatures and the\n",
    "# *actual* temperatures, then compute the percentage difference and\n",
    "# the absolute percentage difference\n",
    "\n",
    "# diff = preds.flatten() - testY\n",
    "# percentDiff = (diff / testY) * 100\n",
    "# absPercentDiff = np.abs(percentDiff)\n",
    "\n",
    "# compute the mean and standard deviation of the absolute percentage\n",
    "# difference\n",
    "\n",
    "# mean = np.mean(absPercentDiff)\n",
    "# std = np.std(absPercentDiff)\n",
    "\n",
    "# finally, show some statistics on our model\n",
    "\n",
    "# locale.setlocale(locale.LC_ALL, \"en_US.UTF-8\")\n",
    "# print(\"[INFO] avg. temperature: {}, std temperature: {}\".format(df[\"temperature\"].mean(),df[\"temperature\"].std()))\n",
    "# print(\"[INFO] mean: {:.2f}%, std: {:.2f}%\".format(mean, std))\n"
   ]
  },
  {
   "cell_type": "code",
   "execution_count": 48,
   "metadata": {},
   "outputs": [],
   "source": [
    "import matplotlib.pyplot as plt\n",
    "def plot_loss(history):\n",
    "  plt.plot(history.history['loss'], label='loss')\n",
    "  plt.plot(history.history['val_loss'], label='val_loss')\n",
    "  plt.ylim([0, 10])\n",
    "  plt.xlabel('Epoch')\n",
    "  plt.ylabel('Error')\n",
    "  plt.legend()\n",
    "  plt.grid(True)"
   ]
  },
  {
   "cell_type": "code",
   "execution_count": 49,
   "metadata": {},
   "outputs": [
    {
     "data": {
      "image/png": "[encoded data removed]",
      "text/plain": [
       "<Figure size 432x288 with 1 Axes>"
      ]
     },
     "metadata": {
      "needs_background": "light"
     },
     "output_type": "display_data"
    }
   ],
   "source": [
    "plot_loss(history)"
   ]
  },
  {
   "cell_type": "code",
   "execution_count": 50,
   "metadata": {},
   "outputs": [
    {
     "name": "stdout",
     "output_type": "stream",
     "text": [
      "Model: \"model_4\"\n",
      "__________________________________________________________________________________________________\n",
      "Layer (type)                    Output Shape         Param #     Connected to                     \n",
      "==================================================================================================\n",
      "dense_26_input (InputLayer)     [(None, 25088)]      0                                            \n",
      "__________________________________________________________________________________________________\n",
      "dense_26 (Dense)                (None, 16)           401424      dense_26_input[0][0]             \n",
      "__________________________________________________________________________________________________\n",
      "dense_24_input (InputLayer)     [(None, 2)]          0                                            \n",
      "__________________________________________________________________________________________________\n",
      "batch_normalization_4 (BatchNor (None, 16)           64          dense_26[0][0]                   \n",
      "__________________________________________________________________________________________________\n",
      "dense_24 (Dense)                (None, 8)            24          dense_24_input[0][0]             \n",
      "__________________________________________________________________________________________________\n",
      "dropout_4 (Dropout)             (None, 16)           0           batch_normalization_4[0][0]      \n",
      "__________________________________________________________________________________________________\n",
      "dense_25 (Dense)                (None, 4)            36          dense_24[0][0]                   \n",
      "__________________________________________________________________________________________________\n",
      "dense_27 (Dense)                (None, 4)            68          dropout_4[0][0]                  \n",
      "__________________________________________________________________________________________________\n",
      "concatenate_4 (Concatenate)     (None, 8)            0           dense_25[0][0]                   \n",
      "                                                                 dense_27[0][0]                   \n",
      "__________________________________________________________________________________________________\n",
      "dense_28 (Dense)                (None, 4)            36          concatenate_4[0][0]              \n",
      "__________________________________________________________________________________________________\n",
      "dense_29 (Dense)                (None, 3)            15          dense_28[0][0]                   \n",
      "==================================================================================================\n",
      "Total params: 401,667\n",
      "Trainable params: 401,635\n",
      "Non-trainable params: 32\n",
      "__________________________________________________________________________________________________\n"
     ]
    }
   ],
   "source": [
    "model.summary()"
   ]
  },
  {
   "cell_type": "code",
   "execution_count": 2,
   "metadata": {},
   "outputs": [],
   "source": [
    "def parity_plot(x, y):\n",
    "  plt.scatter(x, y, label='Data')\n",
    "  plt.plot(x, x, color='k', label='Predictions')\n",
    "#   plt.xlabel('Ground truth')\n",
    "#   plt.ylabel('Predicted')\n",
    "  lims = [0, 1]\n",
    "  plt.xlim(lims)\n",
    "  plt.ylim(lims)\n",
    "  _ = plt.plot(lims, lims)\n",
    "  plt.xlabel('Groud truth', fontsize=18)\n",
    "  plt.ylabel('Prediction', fontsize=18)\n",
    "  plt.legend()"
   ]
  },
  {
   "cell_type": "code",
   "execution_count": 56,
   "metadata": {},
   "outputs": [
    {
     "data": {
      "text/plain": [
       "<matplotlib.legend.Legend at 0x7f0f14498890>"
      ]
     },
     "execution_count": 56,
     "metadata": {},
     "output_type": "execute_result"
    },
    {
     "data": {
      "image/png": "[encoded data removed]",
      "text/plain": [
       "<Figure size 432x288 with 1 Axes>"
      ]
     },
     "metadata": {
      "needs_background": "light"
     },
     "output_type": "display_data"
    }
   ],
   "source": [
    "#parity_plot(preds[:,0]*963, testY[:,0]*963)\n",
    "plt.scatter(preds[:,0]*963, testY[:,0]*963, label='Data')\n",
    "#plt.plot(x, x, color='k', label='Predictions')\n",
    "lims = [850, 1000]\n",
    "plt.xlim(lims)\n",
    "plt.ylim(lims)\n",
    "_ = plt.plot(lims, lims)\n",
    "plt.legend()"
   ]
  },
  {
   "cell_type": "code",
   "execution_count": 53,
   "metadata": {},
   "outputs": [
    {
     "data": {
      "image/png": "[encoded data removed]",
      "text/plain": [
       "<Figure size 432x288 with 1 Axes>"
      ]
     },
     "metadata": {
      "needs_background": "light"
     },
     "output_type": "display_data"
    }
   ],
   "source": [
    "parity_plot(preds[:,1], testY[:,1])"
   ]
  },
  {
   "cell_type": "code",
   "execution_count": 54,
   "metadata": {},
   "outputs": [
    {
     "data": {
      "image/png": "[encoded data removed]",
      "text/plain": [
       "<Figure size 432x288 with 1 Axes>"
      ]
     },
     "metadata": {
      "needs_background": "light"
     },
     "output_type": "display_data"
    }
   ],
   "source": [
    "parity_plot(preds[:,2], testY[:,2])"
   ]
  },
  {
   "cell_type": "code",
   "execution_count": 55,
   "metadata": {},
   "outputs": [
    {
     "data": {
      "text/plain": [
       "963"
      ]
     },
     "execution_count": 55,
     "metadata": {},
     "output_type": "execute_result"
    }
   ],
   "source": [
    "df[\"temperature\"].max()"
   ]
  }
 ],
 "metadata": {
  "kernelspec": {
   "display_name": "Python [conda env:tensorflow1.15] *",
   "language": "python",
   "name": "conda-env-tensorflow1.15-py"
  },
  "language_info": {
   "codemirror_mode": {
    "name": "ipython",
    "version": 3
   },
   "file_extension": ".py",
   "mimetype": "text/x-python",
   "name": "python",
   "nbconvert_exporter": "python",
   "pygments_lexer": "ipython3",
   "version": "3.7.8"
  },
  "toc": {
   "base_numbering": 1,
   "nav_menu": {},
   "number_sections": true,
   "sideBar": true,
   "skip_h1_title": false,
   "title_cell": "Table of Contents",
   "title_sidebar": "Contents",
   "toc_cell": false,
   "toc_position": {},
   "toc_section_display": true,
   "toc_window_display": true
  }
 },
 "nbformat": 4,
 "nbformat_minor": 4
}
